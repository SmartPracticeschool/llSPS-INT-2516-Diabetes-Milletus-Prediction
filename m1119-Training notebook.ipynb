{
 "cells": [
  {
   "cell_type": "markdown",
   "metadata": {},
   "source": [
    "# DataPreprocessing\n"
   ]
  },
  {
   "cell_type": "code",
   "execution_count": 1,
   "metadata": {},
   "outputs": [],
   "source": [
    "#IMPORTING THE LIBRARIES\n",
    "import numpy as np\n",
    "import pandas as pd\n",
    "import matplotlib.pyplot as plt\n",
    "import seaborn as sns"
   ]
  },
  {
   "cell_type": "code",
   "execution_count": 2,
   "metadata": {},
   "outputs": [],
   "source": [
    "#IMPORTING THE DATASET\n",
    "dataset=pd.read_csv('diabetes.csv')"
   ]
  },
  {
   "cell_type": "code",
   "execution_count": 3,
   "metadata": {},
   "outputs": [
    {
     "data": {
      "text/html": [
       "<div>\n",
       "<style scoped>\n",
       "    .dataframe tbody tr th:only-of-type {\n",
       "        vertical-align: middle;\n",
       "    }\n",
       "\n",
       "    .dataframe tbody tr th {\n",
       "        vertical-align: top;\n",
       "    }\n",
       "\n",
       "    .dataframe thead th {\n",
       "        text-align: right;\n",
       "    }\n",
       "</style>\n",
       "<table border=\"1\" class=\"dataframe\">\n",
       "  <thead>\n",
       "    <tr style=\"text-align: right;\">\n",
       "      <th></th>\n",
       "      <th>Pregnancies</th>\n",
       "      <th>Glucose</th>\n",
       "      <th>BloodPressure</th>\n",
       "      <th>SkinThickness</th>\n",
       "      <th>Insulin</th>\n",
       "      <th>BMI</th>\n",
       "      <th>DiabetesPedigreeFunction</th>\n",
       "      <th>Age</th>\n",
       "      <th>Diabetes</th>\n",
       "    </tr>\n",
       "  </thead>\n",
       "  <tbody>\n",
       "    <tr>\n",
       "      <th>0</th>\n",
       "      <td>6</td>\n",
       "      <td>148</td>\n",
       "      <td>72</td>\n",
       "      <td>35</td>\n",
       "      <td>0</td>\n",
       "      <td>33.6</td>\n",
       "      <td>0.627</td>\n",
       "      <td>50</td>\n",
       "      <td>pos</td>\n",
       "    </tr>\n",
       "    <tr>\n",
       "      <th>1</th>\n",
       "      <td>1</td>\n",
       "      <td>85</td>\n",
       "      <td>66</td>\n",
       "      <td>29</td>\n",
       "      <td>0</td>\n",
       "      <td>26.6</td>\n",
       "      <td>0.351</td>\n",
       "      <td>31</td>\n",
       "      <td>neg</td>\n",
       "    </tr>\n",
       "    <tr>\n",
       "      <th>2</th>\n",
       "      <td>8</td>\n",
       "      <td>183</td>\n",
       "      <td>64</td>\n",
       "      <td>0</td>\n",
       "      <td>0</td>\n",
       "      <td>23.3</td>\n",
       "      <td>0.672</td>\n",
       "      <td>32</td>\n",
       "      <td>pos</td>\n",
       "    </tr>\n",
       "    <tr>\n",
       "      <th>3</th>\n",
       "      <td>1</td>\n",
       "      <td>89</td>\n",
       "      <td>66</td>\n",
       "      <td>23</td>\n",
       "      <td>94</td>\n",
       "      <td>28.1</td>\n",
       "      <td>0.167</td>\n",
       "      <td>21</td>\n",
       "      <td>neg</td>\n",
       "    </tr>\n",
       "    <tr>\n",
       "      <th>4</th>\n",
       "      <td>0</td>\n",
       "      <td>137</td>\n",
       "      <td>40</td>\n",
       "      <td>35</td>\n",
       "      <td>168</td>\n",
       "      <td>43.1</td>\n",
       "      <td>2.288</td>\n",
       "      <td>33</td>\n",
       "      <td>pos</td>\n",
       "    </tr>\n",
       "    <tr>\n",
       "      <th>...</th>\n",
       "      <td>...</td>\n",
       "      <td>...</td>\n",
       "      <td>...</td>\n",
       "      <td>...</td>\n",
       "      <td>...</td>\n",
       "      <td>...</td>\n",
       "      <td>...</td>\n",
       "      <td>...</td>\n",
       "      <td>...</td>\n",
       "    </tr>\n",
       "    <tr>\n",
       "      <th>763</th>\n",
       "      <td>10</td>\n",
       "      <td>101</td>\n",
       "      <td>76</td>\n",
       "      <td>48</td>\n",
       "      <td>180</td>\n",
       "      <td>32.9</td>\n",
       "      <td>0.171</td>\n",
       "      <td>63</td>\n",
       "      <td>neg</td>\n",
       "    </tr>\n",
       "    <tr>\n",
       "      <th>764</th>\n",
       "      <td>2</td>\n",
       "      <td>122</td>\n",
       "      <td>70</td>\n",
       "      <td>27</td>\n",
       "      <td>0</td>\n",
       "      <td>36.8</td>\n",
       "      <td>0.340</td>\n",
       "      <td>27</td>\n",
       "      <td>neg</td>\n",
       "    </tr>\n",
       "    <tr>\n",
       "      <th>765</th>\n",
       "      <td>5</td>\n",
       "      <td>121</td>\n",
       "      <td>72</td>\n",
       "      <td>23</td>\n",
       "      <td>112</td>\n",
       "      <td>26.2</td>\n",
       "      <td>0.245</td>\n",
       "      <td>30</td>\n",
       "      <td>neg</td>\n",
       "    </tr>\n",
       "    <tr>\n",
       "      <th>766</th>\n",
       "      <td>1</td>\n",
       "      <td>126</td>\n",
       "      <td>60</td>\n",
       "      <td>0</td>\n",
       "      <td>0</td>\n",
       "      <td>30.1</td>\n",
       "      <td>0.349</td>\n",
       "      <td>47</td>\n",
       "      <td>pos</td>\n",
       "    </tr>\n",
       "    <tr>\n",
       "      <th>767</th>\n",
       "      <td>1</td>\n",
       "      <td>93</td>\n",
       "      <td>70</td>\n",
       "      <td>31</td>\n",
       "      <td>0</td>\n",
       "      <td>30.4</td>\n",
       "      <td>0.315</td>\n",
       "      <td>23</td>\n",
       "      <td>neg</td>\n",
       "    </tr>\n",
       "  </tbody>\n",
       "</table>\n",
       "<p>768 rows × 9 columns</p>\n",
       "</div>"
      ],
      "text/plain": [
       "     Pregnancies  Glucose  BloodPressure  SkinThickness  Insulin   BMI  \\\n",
       "0              6      148             72             35        0  33.6   \n",
       "1              1       85             66             29        0  26.6   \n",
       "2              8      183             64              0        0  23.3   \n",
       "3              1       89             66             23       94  28.1   \n",
       "4              0      137             40             35      168  43.1   \n",
       "..           ...      ...            ...            ...      ...   ...   \n",
       "763           10      101             76             48      180  32.9   \n",
       "764            2      122             70             27        0  36.8   \n",
       "765            5      121             72             23      112  26.2   \n",
       "766            1      126             60              0        0  30.1   \n",
       "767            1       93             70             31        0  30.4   \n",
       "\n",
       "     DiabetesPedigreeFunction  Age Diabetes  \n",
       "0                       0.627   50      pos  \n",
       "1                       0.351   31      neg  \n",
       "2                       0.672   32      pos  \n",
       "3                       0.167   21      neg  \n",
       "4                       2.288   33      pos  \n",
       "..                        ...  ...      ...  \n",
       "763                     0.171   63      neg  \n",
       "764                     0.340   27      neg  \n",
       "765                     0.245   30      neg  \n",
       "766                     0.349   47      pos  \n",
       "767                     0.315   23      neg  \n",
       "\n",
       "[768 rows x 9 columns]"
      ]
     },
     "execution_count": 3,
     "metadata": {},
     "output_type": "execute_result"
    }
   ],
   "source": [
    "dataset"
   ]
  },
  {
   "cell_type": "code",
   "execution_count": 4,
   "metadata": {},
   "outputs": [
    {
     "data": {
      "text/plain": [
       "Pregnancies                 False\n",
       "Glucose                     False\n",
       "BloodPressure               False\n",
       "SkinThickness               False\n",
       "Insulin                     False\n",
       "BMI                         False\n",
       "DiabetesPedigreeFunction    False\n",
       "Age                         False\n",
       "Diabetes                    False\n",
       "dtype: bool"
      ]
     },
     "execution_count": 4,
     "metadata": {},
     "output_type": "execute_result"
    }
   ],
   "source": [
    "dataset.isnull().any()"
   ]
  },
  {
   "cell_type": "code",
   "execution_count": 5,
   "metadata": {},
   "outputs": [],
   "source": [
    "df=dataset.drop(['Pregnancies','SkinThickness'],axis=1)"
   ]
  },
  {
   "cell_type": "code",
   "execution_count": 6,
   "metadata": {},
   "outputs": [
    {
     "data": {
      "text/html": [
       "<div>\n",
       "<style scoped>\n",
       "    .dataframe tbody tr th:only-of-type {\n",
       "        vertical-align: middle;\n",
       "    }\n",
       "\n",
       "    .dataframe tbody tr th {\n",
       "        vertical-align: top;\n",
       "    }\n",
       "\n",
       "    .dataframe thead th {\n",
       "        text-align: right;\n",
       "    }\n",
       "</style>\n",
       "<table border=\"1\" class=\"dataframe\">\n",
       "  <thead>\n",
       "    <tr style=\"text-align: right;\">\n",
       "      <th></th>\n",
       "      <th>Glucose</th>\n",
       "      <th>BloodPressure</th>\n",
       "      <th>Insulin</th>\n",
       "      <th>BMI</th>\n",
       "      <th>DiabetesPedigreeFunction</th>\n",
       "      <th>Age</th>\n",
       "      <th>Diabetes</th>\n",
       "    </tr>\n",
       "  </thead>\n",
       "  <tbody>\n",
       "    <tr>\n",
       "      <th>0</th>\n",
       "      <td>148</td>\n",
       "      <td>72</td>\n",
       "      <td>0</td>\n",
       "      <td>33.6</td>\n",
       "      <td>0.627</td>\n",
       "      <td>50</td>\n",
       "      <td>pos</td>\n",
       "    </tr>\n",
       "    <tr>\n",
       "      <th>1</th>\n",
       "      <td>85</td>\n",
       "      <td>66</td>\n",
       "      <td>0</td>\n",
       "      <td>26.6</td>\n",
       "      <td>0.351</td>\n",
       "      <td>31</td>\n",
       "      <td>neg</td>\n",
       "    </tr>\n",
       "    <tr>\n",
       "      <th>2</th>\n",
       "      <td>183</td>\n",
       "      <td>64</td>\n",
       "      <td>0</td>\n",
       "      <td>23.3</td>\n",
       "      <td>0.672</td>\n",
       "      <td>32</td>\n",
       "      <td>pos</td>\n",
       "    </tr>\n",
       "    <tr>\n",
       "      <th>3</th>\n",
       "      <td>89</td>\n",
       "      <td>66</td>\n",
       "      <td>94</td>\n",
       "      <td>28.1</td>\n",
       "      <td>0.167</td>\n",
       "      <td>21</td>\n",
       "      <td>neg</td>\n",
       "    </tr>\n",
       "    <tr>\n",
       "      <th>4</th>\n",
       "      <td>137</td>\n",
       "      <td>40</td>\n",
       "      <td>168</td>\n",
       "      <td>43.1</td>\n",
       "      <td>2.288</td>\n",
       "      <td>33</td>\n",
       "      <td>pos</td>\n",
       "    </tr>\n",
       "    <tr>\n",
       "      <th>...</th>\n",
       "      <td>...</td>\n",
       "      <td>...</td>\n",
       "      <td>...</td>\n",
       "      <td>...</td>\n",
       "      <td>...</td>\n",
       "      <td>...</td>\n",
       "      <td>...</td>\n",
       "    </tr>\n",
       "    <tr>\n",
       "      <th>763</th>\n",
       "      <td>101</td>\n",
       "      <td>76</td>\n",
       "      <td>180</td>\n",
       "      <td>32.9</td>\n",
       "      <td>0.171</td>\n",
       "      <td>63</td>\n",
       "      <td>neg</td>\n",
       "    </tr>\n",
       "    <tr>\n",
       "      <th>764</th>\n",
       "      <td>122</td>\n",
       "      <td>70</td>\n",
       "      <td>0</td>\n",
       "      <td>36.8</td>\n",
       "      <td>0.340</td>\n",
       "      <td>27</td>\n",
       "      <td>neg</td>\n",
       "    </tr>\n",
       "    <tr>\n",
       "      <th>765</th>\n",
       "      <td>121</td>\n",
       "      <td>72</td>\n",
       "      <td>112</td>\n",
       "      <td>26.2</td>\n",
       "      <td>0.245</td>\n",
       "      <td>30</td>\n",
       "      <td>neg</td>\n",
       "    </tr>\n",
       "    <tr>\n",
       "      <th>766</th>\n",
       "      <td>126</td>\n",
       "      <td>60</td>\n",
       "      <td>0</td>\n",
       "      <td>30.1</td>\n",
       "      <td>0.349</td>\n",
       "      <td>47</td>\n",
       "      <td>pos</td>\n",
       "    </tr>\n",
       "    <tr>\n",
       "      <th>767</th>\n",
       "      <td>93</td>\n",
       "      <td>70</td>\n",
       "      <td>0</td>\n",
       "      <td>30.4</td>\n",
       "      <td>0.315</td>\n",
       "      <td>23</td>\n",
       "      <td>neg</td>\n",
       "    </tr>\n",
       "  </tbody>\n",
       "</table>\n",
       "<p>768 rows × 7 columns</p>\n",
       "</div>"
      ],
      "text/plain": [
       "     Glucose  BloodPressure  Insulin   BMI  DiabetesPedigreeFunction  Age  \\\n",
       "0        148             72        0  33.6                     0.627   50   \n",
       "1         85             66        0  26.6                     0.351   31   \n",
       "2        183             64        0  23.3                     0.672   32   \n",
       "3         89             66       94  28.1                     0.167   21   \n",
       "4        137             40      168  43.1                     2.288   33   \n",
       "..       ...            ...      ...   ...                       ...  ...   \n",
       "763      101             76      180  32.9                     0.171   63   \n",
       "764      122             70        0  36.8                     0.340   27   \n",
       "765      121             72      112  26.2                     0.245   30   \n",
       "766      126             60        0  30.1                     0.349   47   \n",
       "767       93             70        0  30.4                     0.315   23   \n",
       "\n",
       "    Diabetes  \n",
       "0        pos  \n",
       "1        neg  \n",
       "2        pos  \n",
       "3        neg  \n",
       "4        pos  \n",
       "..       ...  \n",
       "763      neg  \n",
       "764      neg  \n",
       "765      neg  \n",
       "766      pos  \n",
       "767      neg  \n",
       "\n",
       "[768 rows x 7 columns]"
      ]
     },
     "execution_count": 6,
     "metadata": {},
     "output_type": "execute_result"
    }
   ],
   "source": [
    "df"
   ]
  },
  {
   "cell_type": "code",
   "execution_count": 7,
   "metadata": {},
   "outputs": [
    {
     "data": {
      "text/plain": [
       "<matplotlib.axes._subplots.AxesSubplot at 0x1c4124e6508>"
      ]
     },
     "execution_count": 7,
     "metadata": {},
     "output_type": "execute_result"
    },
    {
     "data": {
      "image/png": "[encoded data removed]",
      "text/plain": [
       "<Figure size 432x288 with 1 Axes>"
      ]
     },
     "metadata": {
      "needs_background": "light"
     },
     "output_type": "display_data"
    }
   ],
   "source": [
    "#datavisualization\n",
    "sns.boxplot(df['Glucose'])"
   ]
  },
  {
   "cell_type": "code",
   "execution_count": 8,
   "metadata": {},
   "outputs": [
    {
     "data": {
      "text/plain": [
       "<matplotlib.axes._subplots.AxesSubplot at 0x1c412c39b48>"
      ]
     },
     "execution_count": 8,
     "metadata": {},
     "output_type": "execute_result"
    },
    {
     "data": {
      "image/png": "[encoded data removed]",
      "text/plain": [
       "<Figure size 432x288 with 1 Axes>"
      ]
     },
     "metadata": {
      "needs_background": "light"
     },
     "output_type": "display_data"
    }
   ],
   "source": [
    "sns.boxplot(df['BloodPressure'])"
   ]
  },
  {
   "cell_type": "code",
   "execution_count": 9,
   "metadata": {},
   "outputs": [
    {
     "data": {
      "text/plain": [
       "<matplotlib.axes._subplots.AxesSubplot at 0x1c412c77108>"
      ]
     },
     "execution_count": 9,
     "metadata": {},
     "output_type": "execute_result"
    },
    {
     "data": {
      "image/png": "[encoded data removed]",
      "text/plain": [
       "<Figure size 432x288 with 1 Axes>"
      ]
     },
     "metadata": {
      "needs_background": "light"
     },
     "output_type": "display_data"
    }
   ],
   "source": [
    "sns.boxplot(df['Insulin'])"
   ]
  },
  {
   "cell_type": "code",
   "execution_count": 10,
   "metadata": {},
   "outputs": [
    {
     "data": {
      "text/plain": [
       "<matplotlib.axes._subplots.AxesSubplot at 0x1c412d49c88>"
      ]
     },
     "execution_count": 10,
     "metadata": {},
     "output_type": "execute_result"
    },
    {
     "data": {
      "image/png": "[encoded data removed]",
      "text/plain": [
       "<Figure size 432x288 with 1 Axes>"
      ]
     },
     "metadata": {
      "needs_background": "light"
     },
     "output_type": "display_data"
    }
   ],
   "source": [
    "sns.boxplot(df['BMI'])"
   ]
  },
  {
   "cell_type": "code",
   "execution_count": 11,
   "metadata": {},
   "outputs": [
    {
     "data": {
      "text/plain": [
       "<matplotlib.axes._subplots.AxesSubplot at 0x1c412dc7b08>"
      ]
     },
     "execution_count": 11,
     "metadata": {},
     "output_type": "execute_result"
    },
    {
     "data": {
      "image/png": "[encoded data removed]",
      "text/plain": [
       "<Figure size 432x288 with 1 Axes>"
      ]
     },
     "metadata": {
      "needs_background": "light"
     },
     "output_type": "display_data"
    }
   ],
   "source": [
    "sns.boxplot(df['DiabetesPedigreeFunction'])"
   ]
  },
  {
   "cell_type": "code",
   "execution_count": 12,
   "metadata": {},
   "outputs": [
    {
     "data": {
      "text/plain": [
       "<matplotlib.axes._subplots.AxesSubplot at 0x1c412e2dc48>"
      ]
     },
     "execution_count": 12,
     "metadata": {},
     "output_type": "execute_result"
    },
    {
     "data": {
      "image/png": "[encoded data removed]",
      "text/plain": [
       "<Figure size 432x288 with 1 Axes>"
      ]
     },
     "metadata": {
      "needs_background": "light"
     },
     "output_type": "display_data"
    }
   ],
   "source": [
    "sns.boxplot(df['Age'])"
   ]
  },
  {
   "cell_type": "code",
   "execution_count": 13,
   "metadata": {},
   "outputs": [],
   "source": [
    "#LABEL ENCODING\n",
    "from sklearn.preprocessing import LabelEncoder"
   ]
  },
  {
   "cell_type": "code",
   "execution_count": 14,
   "metadata": {},
   "outputs": [],
   "source": [
    "le=LabelEncoder()"
   ]
  },
  {
   "cell_type": "code",
   "execution_count": 15,
   "metadata": {},
   "outputs": [],
   "source": [
    "df['Diabetes']=le.fit_transform(df['Diabetes'])"
   ]
  },
  {
   "cell_type": "code",
   "execution_count": 16,
   "metadata": {},
   "outputs": [
    {
     "data": {
      "text/html": [
       "<div>\n",
       "<style scoped>\n",
       "    .dataframe tbody tr th:only-of-type {\n",
       "        vertical-align: middle;\n",
       "    }\n",
       "\n",
       "    .dataframe tbody tr th {\n",
       "        vertical-align: top;\n",
       "    }\n",
       "\n",
       "    .dataframe thead th {\n",
       "        text-align: right;\n",
       "    }\n",
       "</style>\n",
       "<table border=\"1\" class=\"dataframe\">\n",
       "  <thead>\n",
       "    <tr style=\"text-align: right;\">\n",
       "      <th></th>\n",
       "      <th>Glucose</th>\n",
       "      <th>BloodPressure</th>\n",
       "      <th>Insulin</th>\n",
       "      <th>BMI</th>\n",
       "      <th>DiabetesPedigreeFunction</th>\n",
       "      <th>Age</th>\n",
       "      <th>Diabetes</th>\n",
       "    </tr>\n",
       "  </thead>\n",
       "  <tbody>\n",
       "    <tr>\n",
       "      <th>0</th>\n",
       "      <td>148</td>\n",
       "      <td>72</td>\n",
       "      <td>0</td>\n",
       "      <td>33.6</td>\n",
       "      <td>0.627</td>\n",
       "      <td>50</td>\n",
       "      <td>1</td>\n",
       "    </tr>\n",
       "    <tr>\n",
       "      <th>1</th>\n",
       "      <td>85</td>\n",
       "      <td>66</td>\n",
       "      <td>0</td>\n",
       "      <td>26.6</td>\n",
       "      <td>0.351</td>\n",
       "      <td>31</td>\n",
       "      <td>0</td>\n",
       "    </tr>\n",
       "    <tr>\n",
       "      <th>2</th>\n",
       "      <td>183</td>\n",
       "      <td>64</td>\n",
       "      <td>0</td>\n",
       "      <td>23.3</td>\n",
       "      <td>0.672</td>\n",
       "      <td>32</td>\n",
       "      <td>1</td>\n",
       "    </tr>\n",
       "    <tr>\n",
       "      <th>3</th>\n",
       "      <td>89</td>\n",
       "      <td>66</td>\n",
       "      <td>94</td>\n",
       "      <td>28.1</td>\n",
       "      <td>0.167</td>\n",
       "      <td>21</td>\n",
       "      <td>0</td>\n",
       "    </tr>\n",
       "    <tr>\n",
       "      <th>4</th>\n",
       "      <td>137</td>\n",
       "      <td>40</td>\n",
       "      <td>168</td>\n",
       "      <td>43.1</td>\n",
       "      <td>2.288</td>\n",
       "      <td>33</td>\n",
       "      <td>1</td>\n",
       "    </tr>\n",
       "    <tr>\n",
       "      <th>...</th>\n",
       "      <td>...</td>\n",
       "      <td>...</td>\n",
       "      <td>...</td>\n",
       "      <td>...</td>\n",
       "      <td>...</td>\n",
       "      <td>...</td>\n",
       "      <td>...</td>\n",
       "    </tr>\n",
       "    <tr>\n",
       "      <th>763</th>\n",
       "      <td>101</td>\n",
       "      <td>76</td>\n",
       "      <td>180</td>\n",
       "      <td>32.9</td>\n",
       "      <td>0.171</td>\n",
       "      <td>63</td>\n",
       "      <td>0</td>\n",
       "    </tr>\n",
       "    <tr>\n",
       "      <th>764</th>\n",
       "      <td>122</td>\n",
       "      <td>70</td>\n",
       "      <td>0</td>\n",
       "      <td>36.8</td>\n",
       "      <td>0.340</td>\n",
       "      <td>27</td>\n",
       "      <td>0</td>\n",
       "    </tr>\n",
       "    <tr>\n",
       "      <th>765</th>\n",
       "      <td>121</td>\n",
       "      <td>72</td>\n",
       "      <td>112</td>\n",
       "      <td>26.2</td>\n",
       "      <td>0.245</td>\n",
       "      <td>30</td>\n",
       "      <td>0</td>\n",
       "    </tr>\n",
       "    <tr>\n",
       "      <th>766</th>\n",
       "      <td>126</td>\n",
       "      <td>60</td>\n",
       "      <td>0</td>\n",
       "      <td>30.1</td>\n",
       "      <td>0.349</td>\n",
       "      <td>47</td>\n",
       "      <td>1</td>\n",
       "    </tr>\n",
       "    <tr>\n",
       "      <th>767</th>\n",
       "      <td>93</td>\n",
       "      <td>70</td>\n",
       "      <td>0</td>\n",
       "      <td>30.4</td>\n",
       "      <td>0.315</td>\n",
       "      <td>23</td>\n",
       "      <td>0</td>\n",
       "    </tr>\n",
       "  </tbody>\n",
       "</table>\n",
       "<p>768 rows × 7 columns</p>\n",
       "</div>"
      ],
      "text/plain": [
       "     Glucose  BloodPressure  Insulin   BMI  DiabetesPedigreeFunction  Age  \\\n",
       "0        148             72        0  33.6                     0.627   50   \n",
       "1         85             66        0  26.6                     0.351   31   \n",
       "2        183             64        0  23.3                     0.672   32   \n",
       "3         89             66       94  28.1                     0.167   21   \n",
       "4        137             40      168  43.1                     2.288   33   \n",
       "..       ...            ...      ...   ...                       ...  ...   \n",
       "763      101             76      180  32.9                     0.171   63   \n",
       "764      122             70        0  36.8                     0.340   27   \n",
       "765      121             72      112  26.2                     0.245   30   \n",
       "766      126             60        0  30.1                     0.349   47   \n",
       "767       93             70        0  30.4                     0.315   23   \n",
       "\n",
       "     Diabetes  \n",
       "0           1  \n",
       "1           0  \n",
       "2           1  \n",
       "3           0  \n",
       "4           1  \n",
       "..        ...  \n",
       "763         0  \n",
       "764         0  \n",
       "765         0  \n",
       "766         1  \n",
       "767         0  \n",
       "\n",
       "[768 rows x 7 columns]"
      ]
     },
     "execution_count": 16,
     "metadata": {},
     "output_type": "execute_result"
    }
   ],
   "source": [
    "df"
   ]
  },
  {
   "cell_type": "code",
   "execution_count": 17,
   "metadata": {},
   "outputs": [],
   "source": [
    "#REMOVING OUTLIERS\n",
    "from scipy import stats"
   ]
  },
  {
   "cell_type": "code",
   "execution_count": 18,
   "metadata": {},
   "outputs": [],
   "source": [
    "z=np.abs(stats.zscore(df))"
   ]
  },
  {
   "cell_type": "code",
   "execution_count": 19,
   "metadata": {},
   "outputs": [
    {
     "data": {
      "text/plain": [
       "array([[0.84832379, 0.14964075, 0.69289057, ..., 0.46849198, 1.4259954 ,\n",
       "        1.36589591],\n",
       "       [1.12339636, 0.16054575, 0.69289057, ..., 0.36506078, 0.19067191,\n",
       "        0.73212021],\n",
       "       [1.94372388, 0.26394125, 0.69289057, ..., 0.60439732, 0.10558415,\n",
       "        1.36589591],\n",
       "       ...,\n",
       "       [0.00330087, 0.14964075, 0.27959377, ..., 0.68519336, 0.27575966,\n",
       "        0.73212021],\n",
       "       [0.1597866 , 0.47073225, 0.69289057, ..., 0.37110101, 1.17073215,\n",
       "        1.36589591],\n",
       "       [0.8730192 , 0.04624525, 0.69289057, ..., 0.47378505, 0.87137393,\n",
       "        0.73212021]])"
      ]
     },
     "execution_count": 19,
     "metadata": {},
     "output_type": "execute_result"
    }
   ],
   "source": [
    "z"
   ]
  },
  {
   "cell_type": "code",
   "execution_count": 20,
   "metadata": {},
   "outputs": [
    {
     "data": {
      "text/plain": [
       "(array([  4,   7,   8,   9,  13,  15,  45,  49,  49,  58,  60,  60,  75,\n",
       "         78,  81,  81, 111, 123, 145, 153, 172, 177, 182, 186, 193, 220,\n",
       "        222, 228, 228, 247, 261, 266, 269, 286, 300, 330, 332, 336, 342,\n",
       "        347, 349, 357, 370, 370, 371, 371, 395, 409, 415, 426, 426, 430,\n",
       "        435, 445, 445, 453, 453, 459, 468, 484, 486, 494, 494, 502, 522,\n",
       "        522, 533, 535, 584, 589, 593, 601, 604, 619, 621, 643, 645, 655,\n",
       "        666, 673, 684, 684, 695, 697, 703, 706, 706, 753], dtype=int64),\n",
       " array([4, 1, 2, 3, 2, 1, 4, 1, 3, 4, 1, 3, 0, 1, 1, 3, 2, 5, 3, 2, 1, 3,\n",
       "        0, 2, 1, 2, 1, 2, 4, 2, 1, 1, 1, 2, 1, 4, 1, 1, 0, 1, 0, 1, 2, 4,\n",
       "        3, 4, 4, 2, 2, 1, 3, 1, 1, 3, 4, 1, 5, 5, 1, 1, 2, 1, 3, 0, 1, 3,\n",
       "        1, 1, 2, 1, 4, 1, 1, 1, 4, 1, 2, 2, 5, 3, 3, 5, 2, 1, 1, 1, 3, 2],\n",
       "       dtype=int64))"
      ]
     },
     "execution_count": 20,
     "metadata": {},
     "output_type": "execute_result"
    }
   ],
   "source": [
    "np.where(z>3)"
   ]
  },
  {
   "cell_type": "code",
   "execution_count": 21,
   "metadata": {},
   "outputs": [
    {
     "data": {
      "text/html": [
       "<div>\n",
       "<style scoped>\n",
       "    .dataframe tbody tr th:only-of-type {\n",
       "        vertical-align: middle;\n",
       "    }\n",
       "\n",
       "    .dataframe tbody tr th {\n",
       "        vertical-align: top;\n",
       "    }\n",
       "\n",
       "    .dataframe thead th {\n",
       "        text-align: right;\n",
       "    }\n",
       "</style>\n",
       "<table border=\"1\" class=\"dataframe\">\n",
       "  <thead>\n",
       "    <tr style=\"text-align: right;\">\n",
       "      <th></th>\n",
       "      <th>Glucose</th>\n",
       "      <th>BloodPressure</th>\n",
       "      <th>Insulin</th>\n",
       "      <th>BMI</th>\n",
       "      <th>DiabetesPedigreeFunction</th>\n",
       "      <th>Age</th>\n",
       "      <th>Diabetes</th>\n",
       "    </tr>\n",
       "  </thead>\n",
       "  <tbody>\n",
       "    <tr>\n",
       "      <th>0</th>\n",
       "      <td>148</td>\n",
       "      <td>72</td>\n",
       "      <td>0</td>\n",
       "      <td>33.6</td>\n",
       "      <td>0.627</td>\n",
       "      <td>50</td>\n",
       "      <td>1</td>\n",
       "    </tr>\n",
       "    <tr>\n",
       "      <th>1</th>\n",
       "      <td>85</td>\n",
       "      <td>66</td>\n",
       "      <td>0</td>\n",
       "      <td>26.6</td>\n",
       "      <td>0.351</td>\n",
       "      <td>31</td>\n",
       "      <td>0</td>\n",
       "    </tr>\n",
       "    <tr>\n",
       "      <th>2</th>\n",
       "      <td>183</td>\n",
       "      <td>64</td>\n",
       "      <td>0</td>\n",
       "      <td>23.3</td>\n",
       "      <td>0.672</td>\n",
       "      <td>32</td>\n",
       "      <td>1</td>\n",
       "    </tr>\n",
       "    <tr>\n",
       "      <th>3</th>\n",
       "      <td>89</td>\n",
       "      <td>66</td>\n",
       "      <td>94</td>\n",
       "      <td>28.1</td>\n",
       "      <td>0.167</td>\n",
       "      <td>21</td>\n",
       "      <td>0</td>\n",
       "    </tr>\n",
       "    <tr>\n",
       "      <th>5</th>\n",
       "      <td>116</td>\n",
       "      <td>74</td>\n",
       "      <td>0</td>\n",
       "      <td>25.6</td>\n",
       "      <td>0.201</td>\n",
       "      <td>30</td>\n",
       "      <td>0</td>\n",
       "    </tr>\n",
       "    <tr>\n",
       "      <th>...</th>\n",
       "      <td>...</td>\n",
       "      <td>...</td>\n",
       "      <td>...</td>\n",
       "      <td>...</td>\n",
       "      <td>...</td>\n",
       "      <td>...</td>\n",
       "      <td>...</td>\n",
       "    </tr>\n",
       "    <tr>\n",
       "      <th>763</th>\n",
       "      <td>101</td>\n",
       "      <td>76</td>\n",
       "      <td>180</td>\n",
       "      <td>32.9</td>\n",
       "      <td>0.171</td>\n",
       "      <td>63</td>\n",
       "      <td>0</td>\n",
       "    </tr>\n",
       "    <tr>\n",
       "      <th>764</th>\n",
       "      <td>122</td>\n",
       "      <td>70</td>\n",
       "      <td>0</td>\n",
       "      <td>36.8</td>\n",
       "      <td>0.340</td>\n",
       "      <td>27</td>\n",
       "      <td>0</td>\n",
       "    </tr>\n",
       "    <tr>\n",
       "      <th>765</th>\n",
       "      <td>121</td>\n",
       "      <td>72</td>\n",
       "      <td>112</td>\n",
       "      <td>26.2</td>\n",
       "      <td>0.245</td>\n",
       "      <td>30</td>\n",
       "      <td>0</td>\n",
       "    </tr>\n",
       "    <tr>\n",
       "      <th>766</th>\n",
       "      <td>126</td>\n",
       "      <td>60</td>\n",
       "      <td>0</td>\n",
       "      <td>30.1</td>\n",
       "      <td>0.349</td>\n",
       "      <td>47</td>\n",
       "      <td>1</td>\n",
       "    </tr>\n",
       "    <tr>\n",
       "      <th>767</th>\n",
       "      <td>93</td>\n",
       "      <td>70</td>\n",
       "      <td>0</td>\n",
       "      <td>30.4</td>\n",
       "      <td>0.315</td>\n",
       "      <td>23</td>\n",
       "      <td>0</td>\n",
       "    </tr>\n",
       "  </tbody>\n",
       "</table>\n",
       "<p>693 rows × 7 columns</p>\n",
       "</div>"
      ],
      "text/plain": [
       "     Glucose  BloodPressure  Insulin   BMI  DiabetesPedigreeFunction  Age  \\\n",
       "0        148             72        0  33.6                     0.627   50   \n",
       "1         85             66        0  26.6                     0.351   31   \n",
       "2        183             64        0  23.3                     0.672   32   \n",
       "3         89             66       94  28.1                     0.167   21   \n",
       "5        116             74        0  25.6                     0.201   30   \n",
       "..       ...            ...      ...   ...                       ...  ...   \n",
       "763      101             76      180  32.9                     0.171   63   \n",
       "764      122             70        0  36.8                     0.340   27   \n",
       "765      121             72      112  26.2                     0.245   30   \n",
       "766      126             60        0  30.1                     0.349   47   \n",
       "767       93             70        0  30.4                     0.315   23   \n",
       "\n",
       "     Diabetes  \n",
       "0           1  \n",
       "1           0  \n",
       "2           1  \n",
       "3           0  \n",
       "5           0  \n",
       "..        ...  \n",
       "763         0  \n",
       "764         0  \n",
       "765         0  \n",
       "766         1  \n",
       "767         0  \n",
       "\n",
       "[693 rows x 7 columns]"
      ]
     },
     "execution_count": 21,
     "metadata": {},
     "output_type": "execute_result"
    }
   ],
   "source": [
    "df1=df[(z<3).all(axis=1)]\n",
    "df1"
   ]
  },
  {
   "cell_type": "code",
   "execution_count": 22,
   "metadata": {},
   "outputs": [
    {
     "data": {
      "text/plain": [
       "array([[148.   ,  72.   ,   0.   ,  33.6  ,   0.627,  50.   ],\n",
       "       [ 85.   ,  66.   ,   0.   ,  26.6  ,   0.351,  31.   ],\n",
       "       [183.   ,  64.   ,   0.   ,  23.3  ,   0.672,  32.   ],\n",
       "       ...,\n",
       "       [121.   ,  72.   , 112.   ,  26.2  ,   0.245,  30.   ],\n",
       "       [126.   ,  60.   ,   0.   ,  30.1  ,   0.349,  47.   ],\n",
       "       [ 93.   ,  70.   ,   0.   ,  30.4  ,   0.315,  23.   ]])"
      ]
     },
     "execution_count": 22,
     "metadata": {},
     "output_type": "execute_result"
    }
   ],
   "source": [
    "#SPLITTING DATA INTO TRAIN AND TEST\n",
    "x=df.iloc[:,:6].values\n",
    "y=df.iloc[:,-1].values\n",
    "x"
   ]
  },
  {
   "cell_type": "code",
   "execution_count": 23,
   "metadata": {},
   "outputs": [],
   "source": [
    "from sklearn.model_selection import train_test_split\n",
    "x_train,x_test,y_train,y_test=train_test_split(x,y,test_size=0.2,random_state=0)"
   ]
  },
  {
   "cell_type": "code",
   "execution_count": 24,
   "metadata": {},
   "outputs": [],
   "source": [
    "#FEATURE SCALING\n",
    "from sklearn.preprocessing import StandardScaler\n",
    "sc=StandardScaler()\n",
    "x_train=sc.fit_transform(x_train)\n",
    "x_test=sc.transform(x_test)"
   ]
  },
  {
   "cell_type": "code",
   "execution_count": 25,
   "metadata": {},
   "outputs": [
    {
     "data": {
      "text/plain": [
       "array([[ 0.91569367,  0.44912368,  0.3736349 ,  0.37852648,  0.67740401,\n",
       "         1.69955804],\n",
       "       [-0.75182191, -0.47230103, -0.69965674, -0.50667229, -0.07049698,\n",
       "        -0.96569189],\n",
       "       [ 1.38763205,  1.06340683,  5.09271083,  2.54094063, -0.11855487,\n",
       "        -0.88240283],\n",
       "       ...,\n",
       "       [-0.84620959, -0.21634972, -0.69965674, -0.94927168, -0.95656442,\n",
       "        -1.04898095],\n",
       "       [-1.12937261,  0.24436264, -0.69965674, -0.26640405, -0.50001442,\n",
       "         0.11706589],\n",
       "       [ 0.47521786,  0.65388473, -0.69965674, -4.07275877,  0.52121586,\n",
       "         2.94889395]])"
      ]
     },
     "execution_count": 25,
     "metadata": {},
     "output_type": "execute_result"
    }
   ],
   "source": [
    "x_train"
   ]
  },
  {
   "cell_type": "code",
   "execution_count": 26,
   "metadata": {},
   "outputs": [],
   "source": [
    "import pickle"
   ]
  },
  {
   "cell_type": "code",
   "execution_count": 27,
   "metadata": {},
   "outputs": [],
   "source": [
    "pickle.dump(sc,open('sc.save','wb'))"
   ]
  },
  {
   "cell_type": "markdown",
   "metadata": {},
   "source": [
    "# Model Buidiling"
   ]
  },
  {
   "cell_type": "code",
   "execution_count": 28,
   "metadata": {},
   "outputs": [
    {
     "data": {
      "text/plain": [
       "LogisticRegression(C=1.0, class_weight=None, dual=False, fit_intercept=True,\n",
       "                   intercept_scaling=1, l1_ratio=None, max_iter=100,\n",
       "                   multi_class='auto', n_jobs=None, penalty='l2',\n",
       "                   random_state=None, solver='lbfgs', tol=0.0001, verbose=0,\n",
       "                   warm_start=False)"
      ]
     },
     "execution_count": 28,
     "metadata": {},
     "output_type": "execute_result"
    }
   ],
   "source": [
    "#logisticregression\n",
    "from sklearn.linear_model import LogisticRegression\n",
    "lr=LogisticRegression()\n",
    "lr.fit(x_train,y_train)"
   ]
  },
  {
   "cell_type": "code",
   "execution_count": 29,
   "metadata": {},
   "outputs": [],
   "source": [
    "y_pred=lr.predict(x_test)"
   ]
  },
  {
   "cell_type": "code",
   "execution_count": 30,
   "metadata": {},
   "outputs": [
    {
     "data": {
      "text/plain": [
       "array([1, 0, 0, 1, 0, 0, 1, 1, 0, 0, 1, 1, 0, 0, 0, 0, 1, 0, 1, 0, 1, 0,\n",
       "       0, 0, 0, 0, 0, 1, 0, 0, 0, 0, 0, 0, 0, 1, 0, 0, 0, 1, 0, 0, 0, 1,\n",
       "       1, 0, 0, 0, 0, 0, 0, 0, 1, 0, 0, 0, 0, 1, 0, 0, 1, 0, 0, 1, 1, 1,\n",
       "       1, 0, 0, 0, 0, 0, 0, 1, 1, 0, 0, 1, 0, 0, 0, 0, 0, 0, 0, 0, 0, 0,\n",
       "       1, 0, 0, 0, 0, 0, 1, 0, 0, 1, 1, 0, 0, 0, 0, 0, 1, 0, 0, 0, 0, 1,\n",
       "       0, 0, 1, 0, 1, 1, 0, 1, 0, 1, 0, 0, 0, 0, 0, 0, 0, 0, 1, 0, 0, 0,\n",
       "       0, 1, 0, 0, 0, 0, 1, 0, 0, 1, 0, 0, 0, 0, 0, 0, 0, 0, 0, 1, 0, 0])"
      ]
     },
     "execution_count": 30,
     "metadata": {},
     "output_type": "execute_result"
    }
   ],
   "source": [
    "y_pred"
   ]
  },
  {
   "cell_type": "code",
   "execution_count": 31,
   "metadata": {},
   "outputs": [],
   "source": [
    "#EVALUATION\n",
    "from sklearn.metrics import roc_curve,auc"
   ]
  },
  {
   "cell_type": "code",
   "execution_count": 32,
   "metadata": {},
   "outputs": [],
   "source": [
    "fpr,tpr,thresold=roc_curve(y_test,y_pred)"
   ]
  },
  {
   "cell_type": "code",
   "execution_count": 33,
   "metadata": {},
   "outputs": [],
   "source": [
    "roc_auc=auc(fpr,tpr)"
   ]
  },
  {
   "cell_type": "code",
   "execution_count": 34,
   "metadata": {},
   "outputs": [
    {
     "data": {
      "text/plain": [
       "0.7571087691389939"
      ]
     },
     "execution_count": 34,
     "metadata": {},
     "output_type": "execute_result"
    }
   ],
   "source": [
    "roc_auc"
   ]
  },
  {
   "cell_type": "code",
   "execution_count": 35,
   "metadata": {},
   "outputs": [
    {
     "data": {
      "image/png": "[encoded data removed]",
      "text/plain": [
       "<Figure size 432x288 with 1 Axes>"
      ]
     },
     "metadata": {
      "needs_background": "light"
     },
     "output_type": "display_data"
    }
   ],
   "source": [
    "plt.plot(fpr,tpr,label=\"AUC=%0.2f\"%roc_auc)\n",
    "plt.legend()\n",
    "plt.show()"
   ]
  },
  {
   "cell_type": "code",
   "execution_count": 36,
   "metadata": {},
   "outputs": [],
   "source": [
    "from sklearn.metrics import accuracy_score"
   ]
  },
  {
   "cell_type": "code",
   "execution_count": 37,
   "metadata": {},
   "outputs": [
    {
     "data": {
      "text/plain": [
       "0.8116883116883117"
      ]
     },
     "execution_count": 37,
     "metadata": {},
     "output_type": "execute_result"
    }
   ],
   "source": [
    "accuracy_score(y_pred,y_test)"
   ]
  },
  {
   "cell_type": "code",
   "execution_count": 38,
   "metadata": {},
   "outputs": [],
   "source": [
    "filename='lr.save'\n",
    "pickle.dump(lr,open(filename,'wb'))"
   ]
  },
  {
   "cell_type": "code",
   "execution_count": null,
   "metadata": {},
   "outputs": [],
   "source": []
  },
  {
   "cell_type": "code",
   "execution_count": 39,
   "metadata": {},
   "outputs": [
    {
     "name": "stderr",
     "output_type": "stream",
     "text": [
      "Using TensorFlow backend.\n",
      "C:\\Users\\Chanakya\\anaconda3\\lib\\site-packages\\tensorflow\\python\\framework\\dtypes.py:516: FutureWarning: Passing (type, 1) or '1type' as a synonym of type is deprecated; in a future version of numpy, it will be understood as (type, (1,)) / '(1,)type'.\n",
      "  _np_qint8 = np.dtype([(\"qint8\", np.int8, 1)])\n",
      "C:\\Users\\Chanakya\\anaconda3\\lib\\site-packages\\tensorflow\\python\\framework\\dtypes.py:517: FutureWarning: Passing (type, 1) or '1type' as a synonym of type is deprecated; in a future version of numpy, it will be understood as (type, (1,)) / '(1,)type'.\n",
      "  _np_quint8 = np.dtype([(\"quint8\", np.uint8, 1)])\n",
      "C:\\Users\\Chanakya\\anaconda3\\lib\\site-packages\\tensorflow\\python\\framework\\dtypes.py:518: FutureWarning: Passing (type, 1) or '1type' as a synonym of type is deprecated; in a future version of numpy, it will be understood as (type, (1,)) / '(1,)type'.\n",
      "  _np_qint16 = np.dtype([(\"qint16\", np.int16, 1)])\n",
      "C:\\Users\\Chanakya\\anaconda3\\lib\\site-packages\\tensorflow\\python\\framework\\dtypes.py:519: FutureWarning: Passing (type, 1) or '1type' as a synonym of type is deprecated; in a future version of numpy, it will be understood as (type, (1,)) / '(1,)type'.\n",
      "  _np_quint16 = np.dtype([(\"quint16\", np.uint16, 1)])\n",
      "C:\\Users\\Chanakya\\anaconda3\\lib\\site-packages\\tensorflow\\python\\framework\\dtypes.py:520: FutureWarning: Passing (type, 1) or '1type' as a synonym of type is deprecated; in a future version of numpy, it will be understood as (type, (1,)) / '(1,)type'.\n",
      "  _np_qint32 = np.dtype([(\"qint32\", np.int32, 1)])\n",
      "C:\\Users\\Chanakya\\anaconda3\\lib\\site-packages\\tensorflow\\python\\framework\\dtypes.py:525: FutureWarning: Passing (type, 1) or '1type' as a synonym of type is deprecated; in a future version of numpy, it will be understood as (type, (1,)) / '(1,)type'.\n",
      "  np_resource = np.dtype([(\"resource\", np.ubyte, 1)])\n",
      "C:\\Users\\Chanakya\\anaconda3\\lib\\site-packages\\tensorboard\\compat\\tensorflow_stub\\dtypes.py:541: FutureWarning: Passing (type, 1) or '1type' as a synonym of type is deprecated; in a future version of numpy, it will be understood as (type, (1,)) / '(1,)type'.\n",
      "  _np_qint8 = np.dtype([(\"qint8\", np.int8, 1)])\n",
      "C:\\Users\\Chanakya\\anaconda3\\lib\\site-packages\\tensorboard\\compat\\tensorflow_stub\\dtypes.py:542: FutureWarning: Passing (type, 1) or '1type' as a synonym of type is deprecated; in a future version of numpy, it will be understood as (type, (1,)) / '(1,)type'.\n",
      "  _np_quint8 = np.dtype([(\"quint8\", np.uint8, 1)])\n",
      "C:\\Users\\Chanakya\\anaconda3\\lib\\site-packages\\tensorboard\\compat\\tensorflow_stub\\dtypes.py:543: FutureWarning: Passing (type, 1) or '1type' as a synonym of type is deprecated; in a future version of numpy, it will be understood as (type, (1,)) / '(1,)type'.\n",
      "  _np_qint16 = np.dtype([(\"qint16\", np.int16, 1)])\n",
      "C:\\Users\\Chanakya\\anaconda3\\lib\\site-packages\\tensorboard\\compat\\tensorflow_stub\\dtypes.py:544: FutureWarning: Passing (type, 1) or '1type' as a synonym of type is deprecated; in a future version of numpy, it will be understood as (type, (1,)) / '(1,)type'.\n",
      "  _np_quint16 = np.dtype([(\"quint16\", np.uint16, 1)])\n",
      "C:\\Users\\Chanakya\\anaconda3\\lib\\site-packages\\tensorboard\\compat\\tensorflow_stub\\dtypes.py:545: FutureWarning: Passing (type, 1) or '1type' as a synonym of type is deprecated; in a future version of numpy, it will be understood as (type, (1,)) / '(1,)type'.\n",
      "  _np_qint32 = np.dtype([(\"qint32\", np.int32, 1)])\n",
      "C:\\Users\\Chanakya\\anaconda3\\lib\\site-packages\\tensorboard\\compat\\tensorflow_stub\\dtypes.py:550: FutureWarning: Passing (type, 1) or '1type' as a synonym of type is deprecated; in a future version of numpy, it will be understood as (type, (1,)) / '(1,)type'.\n",
      "  np_resource = np.dtype([(\"resource\", np.ubyte, 1)])\n"
     ]
    }
   ],
   "source": [
    "#neuralnetwork\n",
    "from keras.models import Sequential \n",
    "from keras.layers import Dense "
   ]
  },
  {
   "cell_type": "code",
   "execution_count": 40,
   "metadata": {},
   "outputs": [],
   "source": [
    "model = Sequential ()"
   ]
  },
  {
   "cell_type": "code",
   "execution_count": 41,
   "metadata": {},
   "outputs": [
    {
     "data": {
      "text/plain": [
       "(154, 6)"
      ]
     },
     "execution_count": 41,
     "metadata": {},
     "output_type": "execute_result"
    }
   ],
   "source": [
    "x_test.shape"
   ]
  },
  {
   "cell_type": "code",
   "execution_count": 42,
   "metadata": {},
   "outputs": [
    {
     "name": "stderr",
     "output_type": "stream",
     "text": [
      "C:\\Users\\Chanakya\\anaconda3\\lib\\site-packages\\ipykernel_launcher.py:1: UserWarning: Update your `Dense` call to the Keras 2 API: `Dense(input_dim=6, activation=\"relu\", units=15, kernel_initializer=\"random_uniform\")`\n",
      "  \"\"\"Entry point for launching an IPython kernel.\n"
     ]
    }
   ],
   "source": [
    "model.add(Dense(input_dim=6,init=\"random_uniform\",output_dim=15,activation='relu'))"
   ]
  },
  {
   "cell_type": "code",
   "execution_count": 43,
   "metadata": {},
   "outputs": [
    {
     "name": "stderr",
     "output_type": "stream",
     "text": [
      "C:\\Users\\Chanakya\\anaconda3\\lib\\site-packages\\ipykernel_launcher.py:1: UserWarning: Update your `Dense` call to the Keras 2 API: `Dense(activation=\"relu\", units=8, kernel_initializer=\"random_uniform\")`\n",
      "  \"\"\"Entry point for launching an IPython kernel.\n"
     ]
    }
   ],
   "source": [
    "model.add(Dense(output_dim=8,init=\"random_uniform\",activation='relu'))"
   ]
  },
  {
   "cell_type": "code",
   "execution_count": 44,
   "metadata": {},
   "outputs": [
    {
     "name": "stderr",
     "output_type": "stream",
     "text": [
      "C:\\Users\\Chanakya\\anaconda3\\lib\\site-packages\\ipykernel_launcher.py:1: UserWarning: Update your `Dense` call to the Keras 2 API: `Dense(activation=\"sigmoid\", units=1, kernel_initializer=\"random_uniform\")`\n",
      "  \"\"\"Entry point for launching an IPython kernel.\n"
     ]
    }
   ],
   "source": [
    "model.add(Dense(output_dim=1,activation='sigmoid',init=\"random_uniform\"))"
   ]
  },
  {
   "cell_type": "code",
   "execution_count": 45,
   "metadata": {},
   "outputs": [
    {
     "name": "stdout",
     "output_type": "stream",
     "text": [
      "Model: \"sequential_1\"\n",
      "_________________________________________________________________\n",
      "Layer (type)                 Output Shape              Param #   \n",
      "=================================================================\n",
      "dense_1 (Dense)              (None, 15)                105       \n",
      "_________________________________________________________________\n",
      "dense_2 (Dense)              (None, 8)                 128       \n",
      "_________________________________________________________________\n",
      "dense_3 (Dense)              (None, 1)                 9         \n",
      "=================================================================\n",
      "Total params: 242\n",
      "Trainable params: 242\n",
      "Non-trainable params: 0\n",
      "_________________________________________________________________\n"
     ]
    }
   ],
   "source": [
    "model.summary()"
   ]
  },
  {
   "cell_type": "code",
   "execution_count": 46,
   "metadata": {},
   "outputs": [
    {
     "name": "stdout",
     "output_type": "stream",
     "text": [
      "WARNING:tensorflow:From C:\\Users\\Chanakya\\anaconda3\\lib\\site-packages\\tensorflow\\python\\ops\\nn_impl.py:180: add_dispatch_support.<locals>.wrapper (from tensorflow.python.ops.array_ops) is deprecated and will be removed in a future version.\n",
      "Instructions for updating:\n",
      "Use tf.where in 2.0, which has the same broadcast rule as np.where\n"
     ]
    }
   ],
   "source": [
    "model.compile(optimizer=\"adam\",loss=\"binary_crossentropy\",metrics=['accuracy'])"
   ]
  },
  {
   "cell_type": "code",
   "execution_count": 47,
   "metadata": {},
   "outputs": [
    {
     "name": "stdout",
     "output_type": "stream",
     "text": [
      "WARNING:tensorflow:From C:\\Users\\Chanakya\\anaconda3\\lib\\site-packages\\keras\\backend\\tensorflow_backend.py:422: The name tf.global_variables is deprecated. Please use tf.compat.v1.global_variables instead.\n",
      "\n",
      "Epoch 1/100\n",
      "614/614 [==============================] - 0s 617us/step - loss: 0.6917 - accuracy: 0.6401\n",
      "Epoch 2/100\n",
      "614/614 [==============================] - 0s 112us/step - loss: 0.6869 - accuracy: 0.6401\n",
      "Epoch 3/100\n",
      "614/614 [==============================] - 0s 143us/step - loss: 0.6755 - accuracy: 0.6401\n",
      "Epoch 4/100\n",
      "614/614 [==============================] - 0s 110us/step - loss: 0.6535 - accuracy: 0.6401\n",
      "Epoch 5/100\n",
      "614/614 [==============================] - 0s 67us/step - loss: 0.6186 - accuracy: 0.6401\n",
      "Epoch 6/100\n",
      "614/614 [==============================] - 0s 113us/step - loss: 0.5811 - accuracy: 0.6401\n",
      "Epoch 7/100\n",
      "614/614 [==============================] - 0s 102us/step - loss: 0.5536 - accuracy: 0.6401\n",
      "Epoch 8/100\n",
      "614/614 [==============================] - 0s 115us/step - loss: 0.5406 - accuracy: 0.6401\n",
      "Epoch 9/100\n",
      "614/614 [==============================] - 0s 106us/step - loss: 0.5347 - accuracy: 0.6401\n",
      "Epoch 10/100\n",
      "614/614 [==============================] - 0s 122us/step - loss: 0.5304 - accuracy: 0.6401\n",
      "Epoch 11/100\n",
      "614/614 [==============================] - 0s 115us/step - loss: 0.5274 - accuracy: 0.6401\n",
      "Epoch 12/100\n",
      "614/614 [==============================] - 0s 119us/step - loss: 0.5250 - accuracy: 0.6401\n",
      "Epoch 13/100\n",
      "614/614 [==============================] - 0s 97us/step - loss: 0.5232 - accuracy: 0.6401\n",
      "Epoch 14/100\n",
      "614/614 [==============================] - 0s 49us/step - loss: 0.5203 - accuracy: 0.6401\n",
      "Epoch 15/100\n",
      "614/614 [==============================] - 0s 68us/step - loss: 0.5193 - accuracy: 0.6417\n",
      "Epoch 16/100\n",
      "614/614 [==============================] - 0s 110us/step - loss: 0.5174 - accuracy: 0.7671\n",
      "Epoch 17/100\n",
      "614/614 [==============================] - 0s 135us/step - loss: 0.5161 - accuracy: 0.7622\n",
      "Epoch 18/100\n",
      "614/614 [==============================] - 0s 135us/step - loss: 0.5151 - accuracy: 0.7752\n",
      "Epoch 19/100\n",
      "614/614 [==============================] - 0s 119us/step - loss: 0.5135 - accuracy: 0.7785\n",
      "Epoch 20/100\n",
      "614/614 [==============================] - 0s 122us/step - loss: 0.5125 - accuracy: 0.7801\n",
      "Epoch 21/100\n",
      "614/614 [==============================] - 0s 129us/step - loss: 0.5116 - accuracy: 0.7785\n",
      "Epoch 22/100\n",
      "614/614 [==============================] - 0s 59us/step - loss: 0.5114 - accuracy: 0.7818\n",
      "Epoch 23/100\n",
      "614/614 [==============================] - 0s 104us/step - loss: 0.5096 - accuracy: 0.7834\n",
      "Epoch 24/100\n",
      "614/614 [==============================] - 0s 76us/step - loss: 0.5082 - accuracy: 0.7801\n",
      "Epoch 25/100\n",
      "614/614 [==============================] - 0s 153us/step - loss: 0.5075 - accuracy: 0.7850\n",
      "Epoch 26/100\n",
      "614/614 [==============================] - 0s 148us/step - loss: 0.5067 - accuracy: 0.7801\n",
      "Epoch 27/100\n",
      "614/614 [==============================] - 0s 101us/step - loss: 0.5055 - accuracy: 0.7801\n",
      "Epoch 28/100\n",
      "614/614 [==============================] - 0s 63us/step - loss: 0.5047 - accuracy: 0.7866\n",
      "Epoch 29/100\n",
      "614/614 [==============================] - 0s 71us/step - loss: 0.5038 - accuracy: 0.7850\n",
      "Epoch 30/100\n",
      "614/614 [==============================] - 0s 63us/step - loss: 0.5031 - accuracy: 0.7818\n",
      "Epoch 31/100\n",
      "614/614 [==============================] - 0s 102us/step - loss: 0.5019 - accuracy: 0.7883\n",
      "Epoch 32/100\n",
      "614/614 [==============================] - 0s 94us/step - loss: 0.5012 - accuracy: 0.7866\n",
      "Epoch 33/100\n",
      "614/614 [==============================] - 0s 103us/step - loss: 0.5001 - accuracy: 0.7818\n",
      "Epoch 34/100\n",
      "614/614 [==============================] - 0s 119us/step - loss: 0.4995 - accuracy: 0.7883\n",
      "Epoch 35/100\n",
      "614/614 [==============================] - 0s 72us/step - loss: 0.4990 - accuracy: 0.7866\n",
      "Epoch 36/100\n",
      "614/614 [==============================] - 0s 94us/step - loss: 0.4981 - accuracy: 0.7866\n",
      "Epoch 37/100\n",
      "614/614 [==============================] - 0s 99us/step - loss: 0.4971 - accuracy: 0.7850\n",
      "Epoch 38/100\n",
      "614/614 [==============================] - 0s 75us/step - loss: 0.4966 - accuracy: 0.7850\n",
      "Epoch 39/100\n",
      "614/614 [==============================] - 0s 91us/step - loss: 0.4955 - accuracy: 0.7866\n",
      "Epoch 40/100\n",
      "614/614 [==============================] - 0s 136us/step - loss: 0.4947 - accuracy: 0.7866\n",
      "Epoch 41/100\n",
      "614/614 [==============================] - 0s 107us/step - loss: 0.4942 - accuracy: 0.7866\n",
      "Epoch 42/100\n",
      "614/614 [==============================] - 0s 68us/step - loss: 0.4933 - accuracy: 0.7899\n",
      "Epoch 43/100\n",
      "614/614 [==============================] - 0s 76us/step - loss: 0.4928 - accuracy: 0.7850\n",
      "Epoch 44/100\n",
      "614/614 [==============================] - 0s 93us/step - loss: 0.4920 - accuracy: 0.7866\n",
      "Epoch 45/100\n",
      "614/614 [==============================] - 0s 65us/step - loss: 0.4915 - accuracy: 0.7834\n",
      "Epoch 46/100\n",
      "614/614 [==============================] - 0s 102us/step - loss: 0.4901 - accuracy: 0.7850\n",
      "Epoch 47/100\n",
      "614/614 [==============================] - 0s 91us/step - loss: 0.4894 - accuracy: 0.7850\n",
      "Epoch 48/100\n",
      "614/614 [==============================] - 0s 127us/step - loss: 0.4887 - accuracy: 0.7834\n",
      "Epoch 49/100\n",
      "614/614 [==============================] - 0s 109us/step - loss: 0.4883 - accuracy: 0.7883\n",
      "Epoch 50/100\n",
      "614/614 [==============================] - 0s 96us/step - loss: 0.4872 - accuracy: 0.7866\n",
      "Epoch 51/100\n",
      "614/614 [==============================] - 0s 63us/step - loss: 0.4863 - accuracy: 0.7850\n",
      "Epoch 52/100\n",
      "614/614 [==============================] - 0s 133us/step - loss: 0.4857 - accuracy: 0.7818\n",
      "Epoch 53/100\n",
      "614/614 [==============================] - 0s 101us/step - loss: 0.4848 - accuracy: 0.7801\n",
      "Epoch 54/100\n",
      "614/614 [==============================] - 0s 58us/step - loss: 0.4844 - accuracy: 0.7818\n",
      "Epoch 55/100\n",
      "614/614 [==============================] - 0s 44us/step - loss: 0.4829 - accuracy: 0.7866\n",
      "Epoch 56/100\n",
      "614/614 [==============================] - 0s 58us/step - loss: 0.4833 - accuracy: 0.7801\n",
      "Epoch 57/100\n",
      "614/614 [==============================] - 0s 65us/step - loss: 0.4814 - accuracy: 0.7834\n",
      "Epoch 58/100\n",
      "614/614 [==============================] - 0s 60us/step - loss: 0.4810 - accuracy: 0.7866\n",
      "Epoch 59/100\n",
      "614/614 [==============================] - 0s 125us/step - loss: 0.4802 - accuracy: 0.7850\n",
      "Epoch 60/100\n",
      "614/614 [==============================] - 0s 117us/step - loss: 0.4798 - accuracy: 0.7850\n",
      "Epoch 61/100\n",
      "614/614 [==============================] - 0s 114us/step - loss: 0.4786 - accuracy: 0.7850\n",
      "Epoch 62/100\n",
      "614/614 [==============================] - 0s 65us/step - loss: 0.4779 - accuracy: 0.7850\n",
      "Epoch 63/100\n",
      "614/614 [==============================] - 0s 65us/step - loss: 0.4776 - accuracy: 0.7850\n",
      "Epoch 64/100\n",
      "614/614 [==============================] - 0s 93us/step - loss: 0.4769 - accuracy: 0.7883\n",
      "Epoch 65/100\n",
      "614/614 [==============================] - 0s 47us/step - loss: 0.4762 - accuracy: 0.7883\n",
      "Epoch 66/100\n",
      "614/614 [==============================] - 0s 58us/step - loss: 0.4754 - accuracy: 0.7899\n",
      "Epoch 67/100\n",
      "614/614 [==============================] - 0s 145us/step - loss: 0.4744 - accuracy: 0.7883\n",
      "Epoch 68/100\n",
      "614/614 [==============================] - 0s 99us/step - loss: 0.4742 - accuracy: 0.7883\n",
      "Epoch 69/100\n",
      "614/614 [==============================] - 0s 120us/step - loss: 0.4739 - accuracy: 0.7834\n",
      "Epoch 70/100\n",
      "614/614 [==============================] - 0s 107us/step - loss: 0.4731 - accuracy: 0.7866\n",
      "Epoch 71/100\n",
      "614/614 [==============================] - 0s 123us/step - loss: 0.4721 - accuracy: 0.7850\n",
      "Epoch 72/100\n",
      "614/614 [==============================] - 0s 80us/step - loss: 0.4721 - accuracy: 0.7899\n",
      "Epoch 73/100\n",
      "614/614 [==============================] - 0s 94us/step - loss: 0.4712 - accuracy: 0.7834\n",
      "Epoch 74/100\n",
      "614/614 [==============================] - 0s 73us/step - loss: 0.4705 - accuracy: 0.7866\n",
      "Epoch 75/100\n",
      "614/614 [==============================] - 0s 117us/step - loss: 0.4700 - accuracy: 0.7850\n",
      "Epoch 76/100\n",
      "614/614 [==============================] - 0s 39us/step - loss: 0.4703 - accuracy: 0.7801\n",
      "Epoch 77/100\n",
      "614/614 [==============================] - 0s 75us/step - loss: 0.4694 - accuracy: 0.7866\n",
      "Epoch 78/100\n"
     ]
    },
    {
     "name": "stdout",
     "output_type": "stream",
     "text": [
      "614/614 [==============================] - 0s 49us/step - loss: 0.4684 - accuracy: 0.7883\n",
      "Epoch 79/100\n",
      "614/614 [==============================] - 0s 80us/step - loss: 0.4681 - accuracy: 0.7834\n",
      "Epoch 80/100\n",
      "614/614 [==============================] - ETA: 0s - loss: 0.4356 - accuracy: 0.78 - 0s 54us/step - loss: 0.4679 - accuracy: 0.7850\n",
      "Epoch 81/100\n",
      "614/614 [==============================] - 0s 41us/step - loss: 0.4671 - accuracy: 0.7850\n",
      "Epoch 82/100\n",
      "614/614 [==============================] - 0s 81us/step - loss: 0.4663 - accuracy: 0.7834\n",
      "Epoch 83/100\n",
      "614/614 [==============================] - 0s 42us/step - loss: 0.4663 - accuracy: 0.7850\n",
      "Epoch 84/100\n",
      "614/614 [==============================] - 0s 67us/step - loss: 0.4659 - accuracy: 0.7850\n",
      "Epoch 85/100\n",
      "614/614 [==============================] - 0s 97us/step - loss: 0.4654 - accuracy: 0.7850\n",
      "Epoch 86/100\n",
      "614/614 [==============================] - 0s 80us/step - loss: 0.4655 - accuracy: 0.7850\n",
      "Epoch 87/100\n",
      "614/614 [==============================] - 0s 93us/step - loss: 0.4645 - accuracy: 0.7915\n",
      "Epoch 88/100\n",
      "614/614 [==============================] - 0s 80us/step - loss: 0.4643 - accuracy: 0.7932\n",
      "Epoch 89/100\n",
      "614/614 [==============================] - 0s 58us/step - loss: 0.4634 - accuracy: 0.7883\n",
      "Epoch 90/100\n",
      "614/614 [==============================] - 0s 91us/step - loss: 0.4631 - accuracy: 0.7899\n",
      "Epoch 91/100\n",
      "614/614 [==============================] - 0s 79us/step - loss: 0.4631 - accuracy: 0.7883\n",
      "Epoch 92/100\n",
      "614/614 [==============================] - 0s 60us/step - loss: 0.4625 - accuracy: 0.7899\n",
      "Epoch 93/100\n",
      "614/614 [==============================] - 0s 102us/step - loss: 0.4619 - accuracy: 0.7834\n",
      "Epoch 94/100\n",
      "614/614 [==============================] - 0s 42us/step - loss: 0.4617 - accuracy: 0.7866\n",
      "Epoch 95/100\n",
      "614/614 [==============================] - 0s 64us/step - loss: 0.4614 - accuracy: 0.7915\n",
      "Epoch 96/100\n",
      "614/614 [==============================] - 0s 58us/step - loss: 0.4609 - accuracy: 0.7850\n",
      "Epoch 97/100\n",
      "614/614 [==============================] - 0s 105us/step - loss: 0.4607 - accuracy: 0.7883\n",
      "Epoch 98/100\n",
      "614/614 [==============================] - 0s 92us/step - loss: 0.4607 - accuracy: 0.7883\n",
      "Epoch 99/100\n",
      "614/614 [==============================] - 0s 70us/step - loss: 0.4599 - accuracy: 0.7915\n",
      "Epoch 100/100\n",
      "614/614 [==============================] - 0s 68us/step - loss: 0.4592 - accuracy: 0.7915\n"
     ]
    },
    {
     "data": {
      "text/plain": [
       "<keras.callbacks.callbacks.History at 0x1c419d2da08>"
      ]
     },
     "execution_count": 47,
     "metadata": {},
     "output_type": "execute_result"
    }
   ],
   "source": [
    "model.fit(x_train,y_train,epochs=100,batch_size=32)"
   ]
  },
  {
   "cell_type": "code",
   "execution_count": 48,
   "metadata": {},
   "outputs": [],
   "source": [
    "y_pred1=model.predict(x_test)"
   ]
  },
  {
   "cell_type": "code",
   "execution_count": 49,
   "metadata": {},
   "outputs": [
    {
     "data": {
      "text/plain": [
       "array([[0.671858  ],\n",
       "       [0.08402526],\n",
       "       [0.0708243 ],\n",
       "       [0.671858  ],\n",
       "       [0.17980617],\n",
       "       [0.01893848],\n",
       "       [0.671858  ],\n",
       "       [0.671858  ],\n",
       "       [0.41513985],\n",
       "       [0.46094438],\n",
       "       [0.67176306],\n",
       "       [0.671858  ],\n",
       "       [0.2490142 ],\n",
       "       [0.16977677],\n",
       "       [0.2593597 ],\n",
       "       [0.28099975],\n",
       "       [0.671858  ],\n",
       "       [0.00686166],\n",
       "       [0.29615104],\n",
       "       [0.24095821],\n",
       "       [0.671858  ],\n",
       "       [0.3382119 ],\n",
       "       [0.23838252],\n",
       "       [0.24917695],\n",
       "       [0.01364893],\n",
       "       [0.36516267],\n",
       "       [0.02780157],\n",
       "       [0.671858  ],\n",
       "       [0.05336472],\n",
       "       [0.11074638],\n",
       "       [0.4947803 ],\n",
       "       [0.15000513],\n",
       "       [0.10407364],\n",
       "       [0.6310079 ],\n",
       "       [0.03994295],\n",
       "       [0.6706097 ],\n",
       "       [0.43150854],\n",
       "       [0.02528825],\n",
       "       [0.369902  ],\n",
       "       [0.671858  ],\n",
       "       [0.3163518 ],\n",
       "       [0.12154245],\n",
       "       [0.12135407],\n",
       "       [0.671858  ],\n",
       "       [0.671858  ],\n",
       "       [0.00077617],\n",
       "       [0.02062678],\n",
       "       [0.11895177],\n",
       "       [0.36068273],\n",
       "       [0.32714024],\n",
       "       [0.43730178],\n",
       "       [0.10768041],\n",
       "       [0.671858  ],\n",
       "       [0.5454219 ],\n",
       "       [0.10189736],\n",
       "       [0.0011757 ],\n",
       "       [0.06468341],\n",
       "       [0.41176778],\n",
       "       [0.2825701 ],\n",
       "       [0.00837985],\n",
       "       [0.671858  ],\n",
       "       [0.49431917],\n",
       "       [0.05172566],\n",
       "       [0.6708596 ],\n",
       "       [0.671858  ],\n",
       "       [0.671858  ],\n",
       "       [0.66317946],\n",
       "       [0.22890994],\n",
       "       [0.3874301 ],\n",
       "       [0.18137664],\n",
       "       [0.06190833],\n",
       "       [0.41470492],\n",
       "       [0.08672804],\n",
       "       [0.671858  ],\n",
       "       [0.671858  ],\n",
       "       [0.36925364],\n",
       "       [0.28194916],\n",
       "       [0.671858  ],\n",
       "       [0.11701778],\n",
       "       [0.24139172],\n",
       "       [0.3951497 ],\n",
       "       [0.29817224],\n",
       "       [0.2000323 ],\n",
       "       [0.00534117],\n",
       "       [0.18939888],\n",
       "       [0.218896  ],\n",
       "       [0.22687891],\n",
       "       [0.65215135],\n",
       "       [0.671858  ],\n",
       "       [0.08592346],\n",
       "       [0.16779831],\n",
       "       [0.16371274],\n",
       "       [0.18214977],\n",
       "       [0.01072678],\n",
       "       [0.671858  ],\n",
       "       [0.09054151],\n",
       "       [0.4358452 ],\n",
       "       [0.5015832 ],\n",
       "       [0.671858  ],\n",
       "       [0.34043133],\n",
       "       [0.17886055],\n",
       "       [0.02613395],\n",
       "       [0.22177342],\n",
       "       [0.01256108],\n",
       "       [0.671858  ],\n",
       "       [0.45290172],\n",
       "       [0.06398353],\n",
       "       [0.27006435],\n",
       "       [0.0217241 ],\n",
       "       [0.6716707 ],\n",
       "       [0.05364588],\n",
       "       [0.3036033 ],\n",
       "       [0.6512932 ],\n",
       "       [0.634626  ],\n",
       "       [0.23277873],\n",
       "       [0.60990435],\n",
       "       [0.03856036],\n",
       "       [0.671858  ],\n",
       "       [0.05610493],\n",
       "       [0.671858  ],\n",
       "       [0.4956393 ],\n",
       "       [0.33318317],\n",
       "       [0.22010544],\n",
       "       [0.21905589],\n",
       "       [0.11086074],\n",
       "       [0.01878077],\n",
       "       [0.2788182 ],\n",
       "       [0.512026  ],\n",
       "       [0.4422774 ],\n",
       "       [0.34079158],\n",
       "       [0.27700073],\n",
       "       [0.00254196],\n",
       "       [0.02946624],\n",
       "       [0.671858  ],\n",
       "       [0.413734  ],\n",
       "       [0.39307025],\n",
       "       [0.13568881],\n",
       "       [0.4030356 ],\n",
       "       [0.6667671 ],\n",
       "       [0.21597782],\n",
       "       [0.05160916],\n",
       "       [0.671858  ],\n",
       "       [0.02361026],\n",
       "       [0.21766075],\n",
       "       [0.42155322],\n",
       "       [0.036975  ],\n",
       "       [0.042005  ],\n",
       "       [0.14906815],\n",
       "       [0.09429362],\n",
       "       [0.20824626],\n",
       "       [0.04357478],\n",
       "       [0.620896  ],\n",
       "       [0.03238939],\n",
       "       [0.14167209]], dtype=float32)"
      ]
     },
     "execution_count": 49,
     "metadata": {},
     "output_type": "execute_result"
    }
   ],
   "source": [
    "y_pred1"
   ]
  },
  {
   "cell_type": "code",
   "execution_count": 50,
   "metadata": {},
   "outputs": [
    {
     "data": {
      "text/plain": [
       "array([ True, False, False,  True, False, False,  True,  True, False,\n",
       "       False,  True,  True, False, False, False, False,  True, False,\n",
       "        True, False,  True, False, False, False, False, False, False,\n",
       "        True, False, False, False, False, False, False, False,  True,\n",
       "       False, False, False,  True, False, False, False,  True,  True,\n",
       "       False, False, False, False, False, False, False,  True, False,\n",
       "       False, False, False,  True, False, False,  True, False, False,\n",
       "        True,  True,  True,  True, False, False, False, False, False,\n",
       "       False,  True,  True, False, False,  True, False, False, False,\n",
       "       False, False, False, False, False, False, False,  True, False,\n",
       "       False, False, False, False,  True, False, False,  True,  True,\n",
       "       False, False, False, False, False,  True, False, False, False,\n",
       "       False,  True, False, False,  True, False,  True,  True, False,\n",
       "        True, False,  True, False, False, False, False, False, False,\n",
       "       False, False,  True, False, False, False, False,  True, False,\n",
       "       False, False, False,  True, False, False,  True, False, False,\n",
       "       False, False, False, False, False, False, False,  True, False,\n",
       "       False])"
      ]
     },
     "execution_count": 50,
     "metadata": {},
     "output_type": "execute_result"
    }
   ],
   "source": [
    "y_pred1=(y_pred>0.5)\n",
    "y_pred1"
   ]
  },
  {
   "cell_type": "code",
   "execution_count": 51,
   "metadata": {},
   "outputs": [
    {
     "data": {
      "text/plain": [
       "0.8116883116883117"
      ]
     },
     "execution_count": 51,
     "metadata": {},
     "output_type": "execute_result"
    }
   ],
   "source": [
    "accuracy_score(y_pred1,y_test)"
   ]
  },
  {
   "cell_type": "code",
   "execution_count": 52,
   "metadata": {},
   "outputs": [],
   "source": [
    "Fpr,Tpr,Thresold=roc_curve(y_test,y_pred1)"
   ]
  },
  {
   "cell_type": "code",
   "execution_count": 53,
   "metadata": {},
   "outputs": [],
   "source": [
    "Roc_Auc=auc(fpr,tpr)"
   ]
  },
  {
   "cell_type": "code",
   "execution_count": 54,
   "metadata": {},
   "outputs": [
    {
     "data": {
      "text/plain": [
       "0.7571087691389939"
      ]
     },
     "execution_count": 54,
     "metadata": {},
     "output_type": "execute_result"
    }
   ],
   "source": [
    "Roc_Auc"
   ]
  },
  {
   "cell_type": "code",
   "execution_count": 55,
   "metadata": {},
   "outputs": [
    {
     "data": {
      "image/png": "[encoded data removed]",
      "text/plain": [
       "<Figure size 432x288 with 1 Axes>"
      ]
     },
     "metadata": {
      "needs_background": "light"
     },
     "output_type": "display_data"
    }
   ],
   "source": [
    "plt.plot(fpr,tpr,label=\"AUC=%0.2f\"%Roc_Auc)\n",
    "plt.legend()\n",
    "plt.show()"
   ]
  },
  {
   "cell_type": "code",
   "execution_count": null,
   "metadata": {},
   "outputs": [],
   "source": []
  }
 ],
 "metadata": {
  "kernelspec": {
   "display_name": "Python 3",
   "language": "python",
   "name": "python3"
  },
  "language_info": {
   "codemirror_mode": {
    "name": "ipython",
    "version": 3
   },
   "file_extension": ".py",
   "mimetype": "text/x-python",
   "name": "python",
   "nbconvert_exporter": "python",
   "pygments_lexer": "ipython3",
   "version": "3.7.6"
  }
 },
 "nbformat": 4,
 "nbformat_minor": 4
}
